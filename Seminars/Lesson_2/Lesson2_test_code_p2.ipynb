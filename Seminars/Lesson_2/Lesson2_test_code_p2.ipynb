{
 "cells": [
  {
   "cell_type": "code",
   "execution_count": 3,
   "metadata": {},
   "outputs": [
    {
     "name": "stdout",
     "output_type": "stream",
     "text": [
      "0 0\n",
      "5 10\n",
      "10 20\n",
      "15 30\n",
      "20 40\n",
      "25 50\n",
      "30 60\n",
      "35 70\n",
      "40 80\n",
      "45 90\n",
      "50 100\n",
      "55 110\n",
      "60 120\n",
      "65 130\n",
      "70 140\n",
      "75 150\n",
      "80 160\n",
      "85 170\n",
      "90 180\n",
      "95 190\n"
     ]
    }
   ],
   "source": [
    "wtf = [str(x*2) for x in range(100)]\n",
    "for n, i in enumerate(wtf):\n",
    "    if n % 5 == 0:\n",
    "        print(n, i)"
   ]
  },
  {
   "cell_type": "code",
   "execution_count": null,
   "metadata": {},
   "outputs": [],
   "source": []
  }
 ],
 "metadata": {
  "kernelspec": {
   "display_name": "Python 3",
   "language": "python",
   "name": "python3"
  },
  "language_info": {
   "codemirror_mode": {
    "name": "ipython",
    "version": 3
   },
   "file_extension": ".py",
   "mimetype": "text/x-python",
   "name": "python",
   "nbconvert_exporter": "python",
   "pygments_lexer": "ipython3",
   "version": "3.6.9"
  }
 },
 "nbformat": 4,
 "nbformat_minor": 4
}
